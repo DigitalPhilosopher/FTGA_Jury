{
 "cells": [
  {
   "cell_type": "code",
   "execution_count": null,
   "metadata": {},
   "outputs": [],
   "source": [
    "import pandas as pd\n",
    "\n",
    "import os\n",
    "os.chdir(\"../\")\n",
    "\n",
    "JSON = \"./data/combined.json\"\n",
    "PROCESSED = \"./data/preprocessed.json\"\n",
    "JURORS = [\n",
    "    \"Achim Oelgarth\",\n",
    "    \"Alex von Frankenberg\",\n",
    "    \"Alexandra Weck\",\n",
    "    \"Alfred Schorno\",\n",
    "    \"Aman Dogra\",\n",
    "    \"Birte Sewing\",\n",
    "    \"Florian Reul\",\n",
    "    \"Franz von Metzler\",\n",
    "    \"Georgios Kargakis\",\n",
    "    \"Hans Mantell\",\n",
    "    \"Henning Zander\",\n",
    "    \"Hubertus V\\u00e4th\",\n",
    "    \"Isabelle Canu\",\n",
    "    \"Joachim J\\u00fcrschick\",\n",
    "    \"Marco Di Sazio\",\n",
    "    \"Maria Pennanen\",\n",
    "    \"Mehrdad Piroozram\",\n",
    "    \"Michael Mellinghoff\",\n",
    "    \"Nektarios Liolis\",\n",
    "    \"Nina-Luisa Siedler\",\n",
    "    \"Philipp Sandner\",\n",
    "    \"Sebastian Sch\\u00e4fer\"\n",
    "]"
   ]
  },
  {
   "cell_type": "code",
   "execution_count": null,
   "metadata": {},
   "outputs": [],
   "source": [
    "df = pd.read_json(JSON, orient=\"records\")\n",
    "df.head()"
   ]
  },
  {
   "cell_type": "code",
   "execution_count": null,
   "metadata": {},
   "outputs": [],
   "source": [
    "for juror in JURORS:\n",
    "    # Check if the juror's name is a valid column in the DataFrame\n",
    "    if juror in df.columns:\n",
    "        # Update values to NaN where values are between 3 and 5 (inclusive)\n",
    "        df[juror] = df[juror].apply(lambda x: None if 3 <= x <= 5 else x)"
   ]
  },
  {
   "cell_type": "code",
   "execution_count": null,
   "metadata": {},
   "outputs": [],
   "source": [
    "valid_jurors = [juror for juror in JURORS if juror in df.columns]\n",
    "\n",
    "# Create a new column 'Average' that calculates the mean across the specified columns\n",
    "df['Average'] = df[valid_jurors].mean(axis=1)"
   ]
  },
  {
   "cell_type": "code",
   "execution_count": null,
   "metadata": {},
   "outputs": [],
   "source": [
    "df['label'] = df['Average'].apply(lambda x: 1 if x >= 5 else (0 if x <= 3 else None))\n",
    "df = df.dropna(subset=['label'])\n",
    "df.to_json(PROCESSED, orient='records')"
   ]
  }
 ],
 "metadata": {
  "kernelspec": {
   "display_name": ".venv",
   "language": "python",
   "name": "python3"
  },
  "language_info": {
   "codemirror_mode": {
    "name": "ipython",
    "version": 3
   },
   "file_extension": ".py",
   "mimetype": "text/x-python",
   "name": "python",
   "nbconvert_exporter": "python",
   "pygments_lexer": "ipython3",
   "version": "3.12.3"
  }
 },
 "nbformat": 4,
 "nbformat_minor": 2
}
