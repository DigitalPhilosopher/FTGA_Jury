{
 "cells": [
  {
   "cell_type": "code",
   "execution_count": null,
   "metadata": {},
   "outputs": [],
   "source": [
    "import os\n",
    "import warnings\n",
    "import pandas as pd\n",
    "import torch\n",
    "import numpy as np\n",
    "import torch.nn.functional as F\n",
    "from transformers import BertForSequenceClassification, BertTokenizer\n",
    "warnings.filterwarnings('ignore')\n",
    "import os\n",
    "os.chdir(\"..\")\n",
    "\n",
    "DATA = \"./data/texts.json\"\n",
    "MODEL = 'bert-base-uncased'\n",
    "MODELS = {\n",
    "    \"RESPONSE_1\" : \"1. Your company/vision/mission in a tweet ! *\",\n",
    "    \"RESPONSE_4\" : \"4. Which problem does your company solve? *\",\n",
    "    \"RESPONSE_5\" : \"5. What sparked the founder(s) to set up the company? *\",\n",
    "    \"RESPONSE_14\" : \"14. Which business area in the last year consumed most of your management attention? *\",\n",
    "    \"RESPONSE_16\" : \"16. After your next financing round, will the founders jointly hold above or below 50% of the\",\n",
    "    \"RESPONSE_18\" : \"18. How do you integrate ESG standards in your business model? *\",\n",
    "    \"RESPONSE_19\" : \"19. When scaling the company, how do you ensure that the corporate culture does not suffer and\",\n",
    "    \"Description\":\"Description\",\n",
    "    \"Difference\":\"Difference\",\n",
    "}"
   ]
  },
  {
   "cell_type": "code",
   "execution_count": null,
   "metadata": {},
   "outputs": [],
   "source": [
    "def load_model(model_path, model_name=MODEL, num_labels=2):\n",
    "    model = BertForSequenceClassification.from_pretrained(\n",
    "        model_name, \n",
    "        num_labels=num_labels, \n",
    "        output_attentions=False, \n",
    "        output_hidden_states=False\n",
    "    )\n",
    "    model.load_state_dict(torch.load(model_path))\n",
    "    model.eval()  # Put the model in evaluation mode\n",
    "    return model"
   ]
  },
  {
   "cell_type": "code",
   "execution_count": null,
   "metadata": {},
   "outputs": [],
   "source": [
    "class FTGAInference():\n",
    "    def __init__(self) -> None:\n",
    "        self.tokenizer = BertTokenizer.from_pretrained(MODEL)\n",
    "        self.models = {}\n",
    "        for key, value in iter(MODELS.items()):\n",
    "            model = load_model(\"./data/\" + key + \".pth\")\n",
    "            self.models[key] = model\n",
    "    \n",
    "    def inference(self, df, label=\"predict\"):\n",
    "        for key, model in iter(self.models.items()):\n",
    "            df[label + \"_\" + key] = df[MODELS[key]].apply(lambda x: self.predict(x, model))\n",
    "            \n",
    "        model_keys = [label + \"_\" + key for key in self.models.keys()]\n",
    "        df[label + \"_total_sum\"] = df[model_keys].sum(axis=1)\n",
    "\n",
    "        df[label + \"_average\"] = (df[label + \"_total_sum\"] / len(self.models)).round().astype(int)\n",
    "        return df\n",
    "    \n",
    "    def prepare_input(self, text):\n",
    "        inputs = self.tokenizer.encode_plus(\n",
    "            text, \n",
    "            add_special_tokens=True, \n",
    "            max_length=128, \n",
    "            pad_to_max_length=True, \n",
    "            return_attention_mask=True, \n",
    "            return_tensors='pt'  # Return PyTorch tensors\n",
    "        )\n",
    "        return inputs['input_ids'], inputs['attention_mask']\n",
    "    \n",
    "\n",
    "    def predict(self, text, model):\n",
    "        model.eval()  # Make sure model is in eval mode for inference\n",
    "        input_ids, attention_mask = self.prepare_input(text)\n",
    "        with torch.no_grad():  # No need to track gradients for inference\n",
    "            outputs = model(input_ids, attention_mask=attention_mask)\n",
    "            logits = outputs.logits\n",
    "            \n",
    "            # Use argmax to determine the predicted class (0 or 1)\n",
    "            predicted_class = torch.argmax(logits, dim=-1).item()  # Get the class index as a Python int\n",
    "\n",
    "            # Map the predicted class index to the desired output\n",
    "            if predicted_class == 0:\n",
    "                result = -1\n",
    "            else:\n",
    "                result = 6\n",
    "\n",
    "        return result"
   ]
  },
  {
   "cell_type": "code",
   "execution_count": null,
   "metadata": {},
   "outputs": [],
   "source": [
    "Inference = FTGAInference()"
   ]
  },
  {
   "cell_type": "code",
   "execution_count": null,
   "metadata": {},
   "outputs": [],
   "source": [
    "df = pd.read_json(DATA)\n",
    "df = Inference.inference(df)\n"
   ]
  },
  {
   "cell_type": "code",
   "execution_count": null,
   "metadata": {},
   "outputs": [],
   "source": [
    "df[[\"Filename\", \"predict_average\"]]"
   ]
  }
 ],
 "metadata": {
  "kernelspec": {
   "display_name": ".venv",
   "language": "python",
   "name": "python3"
  },
  "language_info": {
   "codemirror_mode": {
    "name": "ipython",
    "version": 3
   },
   "file_extension": ".py",
   "mimetype": "text/x-python",
   "name": "python",
   "nbconvert_exporter": "python",
   "pygments_lexer": "ipython3",
   "version": "3.12.3"
  }
 },
 "nbformat": 4,
 "nbformat_minor": 2
}
