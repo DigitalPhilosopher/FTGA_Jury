{
 "cells": [
  {
   "cell_type": "code",
   "execution_count": null,
   "metadata": {},
   "outputs": [],
   "source": [
    "import os\n",
    "os.chdir(\"..\")\n",
    "os.environ['OPENAI_KEY'] = 'sk-'\n",
    "\n",
    "from datasets import load_dataset\n",
    "\n",
    "dataset = load_dataset(\"./FTGA\", \"2024\", trust_remote_code=True)\n"
   ]
  },
  {
   "cell_type": "code",
   "execution_count": null,
   "metadata": {},
   "outputs": [],
   "source": [
    "val = dataset[\"valid\"]\n",
    "val"
   ]
  },
  {
   "cell_type": "code",
   "execution_count": null,
   "metadata": {},
   "outputs": [],
   "source": [
    "for v in val:\n",
    "    print(v)"
   ]
  },
  {
   "cell_type": "code",
   "execution_count": null,
   "metadata": {},
   "outputs": [],
   "source": [
    "import os\n",
    "import warnings\n",
    "import pandas as pd\n",
    "import torch\n",
    "import numpy as np\n",
    "import torch.nn.functional as F\n",
    "from transformers import BertForSequenceClassification, BertTokenizer\n",
    "from transformers import logging\n",
    "logging.set_verbosity_error()\n",
    "warnings.filterwarnings('ignore')\n",
    "\n",
    "DATA = \"./data/preprocessed.json\"\n",
    "MODEL = 'bert-base-multilingual-uncased'\n",
    "MODELS = {\n",
    "    \"RESPONSE_1\" : \"Your company/vision/mission in a tweet !\",\n",
    "    \"RESPONSE_2\" : \"Which problem does your company solve?\",\n",
    "    \"RESPONSE_3\" : \"What sparked the founder(s) to set up the company?\",\n",
    "    \"RESPONSE_4\" : \"Please describe the business model of your company, including the main sources of revenue.\",\n",
    "    \"RESPONSE_5\" : \"What is your USP versus traditional competitors or in the digital sphere?\",\n",
    "    \"RESPONSE_6\" : \"Which target group(s) in which markets do you address primarily?\",\n",
    "    \"RESPONSE_7\" : \"Please provide a brief competition landscape for your core markets.\",\n",
    "    \"RESPONSE_8\" : \"Did you pivot in the past and why?\",\n",
    "    \"RESPONSE_9\" : \"Which business area in the last year consumed most of your management attention?\",\n",
    "    \"RESPONSE_10\" : \"What protects your business from new market entrants or copycats?\",\n",
    "    \"RESPONSE_11\" : \"After your next financing round, will the founders jointly hold above or below 50% of the shares?\",\n",
    "    \"RESPONSE_12\" : \"How do you integrate ESG standards in your business model?\",\n",
    "    \"RESPONSE_13\" : \"When scaling the company, how do you ensure that the corporate culture does not suffer and that the shared values and goals remain intact?\",\n",
    "    \"Difference\" : \"Differentiators\",\n",
    "}\n",
    "MODELS = {\n",
    "    \"RESPONSE_1\" : \"Your company/vision/mission in a tweet !\",\n",
    "    \"RESPONSE_4\" : \"Which problem does your company solve?\",\n",
    "    \"RESPONSE_5\" : \"What sparked the founder(s) to set up the company?\",\n",
    "    \"RESPONSE_6\" : \"Please describe the business model of your company, including the main sources of revenue.\",\n",
    "    \"RESPONSE_7\" : \"What is your USP versus traditional competitors or in the digital sphere?\",\n",
    "    \"RESPONSE_8\" : \"Which target group(s) in which markets do you address primarily?\",\n",
    "    \"RESPONSE_12\" : \"Please provide a brief competition landscape for your core markets.\",\n",
    "    \"RESPONSE_13\" : \"Did you pivot in the past and why?\",\n",
    "    \"RESPONSE_14\" : \"Which business area in the last year consumed most of your management attention?\",\n",
    "    \"RESPONSE_15\" : \"What protects your business from new market entrants or copycats?\",\n",
    "    \"RESPONSE_16\" : \"After your next financing round, will the founders jointly hold above or below 50% of the shares?\",\n",
    "    \"RESPONSE_18\" : \"How do you integrate ESG standards in your business model?\",\n",
    "    \"RESPONSE_19\" : \"When scaling the company, how do you ensure that the corporate culture does not suffer and that the shared values and goals remain intact?\",\n",
    "    \"Difference\" : \"Differentiators\",\n",
    "}"
   ]
  },
  {
   "cell_type": "code",
   "execution_count": null,
   "metadata": {},
   "outputs": [],
   "source": [
    "def load_bert_model(model_path, model_name=MODEL, num_labels=2):\n",
    "    model = BertForSequenceClassification.from_pretrained(\n",
    "        model_name, \n",
    "        num_labels=num_labels, \n",
    "        output_attentions=False, \n",
    "        output_hidden_states=False\n",
    "    )\n",
    "    model.load_state_dict(torch.load(model_path))\n",
    "    model.eval()  # Put the model in evaluation mode\n",
    "    return model\n",
    "\n",
    "from joblib import load\n",
    "\n",
    "def load_rf_model(model_path):\n",
    "    rf_model = load(model_path)\n",
    "    return rf_model"
   ]
  },
  {
   "cell_type": "code",
   "execution_count": null,
   "metadata": {},
   "outputs": [],
   "source": [
    "from dotenv import load_dotenv\n",
    "from tqdm import tqdm\n",
    "from openai import OpenAI\n",
    "\n",
    "load_dotenv()\n",
    "\n",
    "client = OpenAI()\n",
    "\n",
    "class FTGAInference():\n",
    "    def __init__(self) -> None:\n",
    "        self.tokenizer = BertTokenizer.from_pretrained(MODEL)\n",
    "        self.bert_models = {}\n",
    "        self.rf_models = {}\n",
    "        for key, value in tqdm(iter(MODELS.items())):\n",
    "            bert_model = load_bert_model(\"./data/\" + key + \".pth\")\n",
    "            rf_model = load_rf_model(\"./data/\" + key + \"_rf.joblib\")\n",
    "            self.bert_models[key] = bert_model\n",
    "            self.rf_models[key] = rf_model\n",
    "\n",
    "    \n",
    "    def inference(self, df, label=\"predict\"):\n",
    "        for key, bert_model in iter(self.bert_models.items()):\n",
    "            df[label + \"_bert_\" + key] = df[MODELS[key]].apply(lambda x: self.predict_bert(x, bert_model))\n",
    "\n",
    "        for key, rf_model in iter(self.rf_models.items()):\n",
    "            df[label + \"_rf_\" + key] = df[MODELS[key]].apply(lambda x: self.predict_rf(x, rf_model))\n",
    "            \n",
    "        bert_model_keys = [label + \"_bert_\" + key for key in self.bert_models.keys()]\n",
    "        df[label + \"_total_sum_bert\"] = df[bert_model_keys].sum(axis=1)\n",
    "\n",
    "        rf_model_keys = [label + \"_rf_\" + key for key in self.rf_models.keys()]\n",
    "        df[label + \"_total_sum_rf\"] = df[rf_model_keys].sum(axis=1)\n",
    "\n",
    "        df[label + \"_average_bert\"] = (df[label + \"_total_sum_bert\"] / len(self.bert_models)).round().astype(int).clip(lower=1)\n",
    "        df[label + \"_average_rf\"] = (df[label + \"_total_sum_rf\"] / len(self.rf_models)).round().astype(int).clip(lower=1)\n",
    "        \n",
    "        df[label + \"_weighted_average\"] = ( 0.2 * df[label + \"_average_bert\"] + 0.8 * df[label + \"_average_rf\"]).round().astype(int).clip(lower=1).squeeze()\n",
    "        return df\n",
    "    \n",
    "    def prepare_input(self, text):\n",
    "        inputs = self.tokenizer.encode_plus(\n",
    "            text, \n",
    "            add_special_tokens=True, \n",
    "            max_length=128, \n",
    "            pad_to_max_length=True, \n",
    "            return_attention_mask=True, \n",
    "            return_tensors='pt'  # Return PyTorch tensors\n",
    "        )\n",
    "        return inputs['input_ids'], inputs['attention_mask']\n",
    "    \n",
    "\n",
    "    def predict_bert(self, text, model):\n",
    "        if text == None or len(text) < 1:\n",
    "            return None\n",
    "        model.eval()  # Make sure model is in eval mode for inference\n",
    "        input_ids, attention_mask = self.prepare_input(text)\n",
    "        with torch.no_grad():  # No need to track gradients for inference\n",
    "            outputs = model(input_ids, attention_mask=attention_mask)\n",
    "            logits = outputs.logits\n",
    "            \n",
    "            # Use argmax to determine the predicted class (0 or 1)\n",
    "            predicted_class = torch.argmax(logits, dim=-1).item()  # Get the class index as a Python int\n",
    "\n",
    "            # Map the predicted class index to the desired output\n",
    "            if predicted_class == 0:\n",
    "                result = -2\n",
    "            else:\n",
    "                result = 7\n",
    "\n",
    "        return result\n",
    "    \n",
    "    def get_embedding(self, text, model=\"text-embedding-3-small\"):\n",
    "        text = text.replace(\"\\n\", \" \")\n",
    "        response = client.embeddings.create(input=[text], model=model)\n",
    "        return response.data[0].embedding\n",
    "    \n",
    "    def predict_rf(self, text, model):\n",
    "        if text == None or len(text) < 1:\n",
    "            return None\n",
    "        embedding = self.get_embedding(text)\n",
    "        embedding = np.array(embedding).reshape(1, -1)\n",
    "        prediction = model.predict(embedding)\n",
    "        if prediction == 0:\n",
    "            result = -2\n",
    "        else:\n",
    "            result = 7\n",
    "\n",
    "        return result"
   ]
  },
  {
   "cell_type": "code",
   "execution_count": null,
   "metadata": {},
   "outputs": [],
   "source": [
    "Inference = FTGAInference()"
   ]
  },
  {
   "cell_type": "code",
   "execution_count": null,
   "metadata": {},
   "outputs": [],
   "source": [
    "df = Inference.inference(pd.DataFrame(val))"
   ]
  },
  {
   "cell_type": "code",
   "execution_count": null,
   "metadata": {},
   "outputs": [],
   "source": [
    "df.head()"
   ]
  },
  {
   "cell_type": "code",
   "execution_count": null,
   "metadata": {},
   "outputs": [],
   "source": [
    "df[[\"predict_weighted_average\"]].mean()"
   ]
  },
  {
   "cell_type": "code",
   "execution_count": null,
   "metadata": {},
   "outputs": [],
   "source": [
    "pd.set_option('display.max_rows', None)\n",
    "pd.set_option('display.max_columns', None)\n",
    "df[[\"Startup/Person Name\", \"predict_average_bert\", \"predict_average_rf\", \"predict_weighted_average\"]]"
   ]
  },
  {
   "cell_type": "code",
   "execution_count": null,
   "metadata": {},
   "outputs": [],
   "source": [
    "columns_to_keep = [\"Startup/Person Name\"]\n",
    "for key in MODELS:\n",
    "    columns_to_keep.append(MODELS[key])\n",
    "\n",
    "for p in df.columns:\n",
    "    if not p.startswith(\"predict\"):\n",
    "        continue\n",
    "    columns_to_keep.append(p)\n",
    "\n",
    "df_website = df[columns_to_keep]\n",
    "df_website.head()"
   ]
  },
  {
   "cell_type": "code",
   "execution_count": null,
   "metadata": {},
   "outputs": [],
   "source": [
    "# Convert all columns to string\n",
    "df_website = df_website.astype(str)\n",
    "\n",
    "# Calculate and add the new columns based on ratings\n",
    "questions_rated = [1, 4, 5, 6, 7, 8, 12, 13, 14, 15, 16, 18, 19, \"Difference\"]\n",
    "\n",
    "for rating_number in questions_rated:\n",
    "    if rating_number == \"Difference\":\n",
    "        rf_rating = f\"predict_rf_{rating_number}\"\n",
    "        bert_rating = f\"predict_bert_{rating_number}\"\n",
    "        new_column = f\"{rating_number}_rating\"\n",
    "    else:\n",
    "        rf_rating = f\"predict_rf_RESPONSE_{rating_number}\"\n",
    "        bert_rating = f\"predict_bert_RESPONSE_{rating_number}\"\n",
    "        new_column = f\"RESPONSE_{rating_number}_rating\"\n",
    "    df_website[new_column] = (df[rf_rating] + df[bert_rating]) / 2\n",
    "\n",
    "# Drop the original rating columns from df_website\n",
    "rating_columns_to_drop = [f\"predict_rf_RESPONSE_{rn}\" for rn in questions_rated if rn != \"Difference\"] + \\\n",
    "                         [f\"predict_bert_RESPONSE_{rn}\" for rn in questions_rated if rn != \"Difference\"] + \\\n",
    "                         [\"predict_rf_Difference\", \"predict_bert_Difference\"]\n",
    "\n",
    "df_website.drop(columns=rating_columns_to_drop, axis=1, inplace=True)\n",
    "df_website.head()"
   ]
  },
  {
   "cell_type": "code",
   "execution_count": null,
   "metadata": {},
   "outputs": [],
   "source": [
    "# Create the new column \"Startup Name\" by removing the \".pdf\" extension\n",
    "df_website['Startup Name'] = df_website['Startup/Person Name']\n",
    "\n",
    "# Drop the \"filename\" column\n",
    "df_website.drop(columns=['Startup/Person Name'], inplace=True)"
   ]
  },
  {
   "cell_type": "code",
   "execution_count": null,
   "metadata": {},
   "outputs": [],
   "source": [
    "for key in MODELS:\n",
    "    if len(key.split(\"_\")) > 1:\n",
    "        column_name = \"Answer \" + key.split(\"_\")[1]\n",
    "        df_website[column_name] = df_website[MODELS[key]]\n",
    "        df_website = df_website.drop(columns=[MODELS[key]])\n",
    "        column_name = \"Question \" + key.split(\"_\")[1]\n",
    "        df_website[column_name] = MODELS[key]\n",
    "    else:\n",
    "        df_website[\"Answer 0\"] = df_website[MODELS[key]]\n",
    "        df_website[\"Question 0\"] = MODELS[key]\n",
    "        df_website = df_website.drop(columns=[MODELS[key]])\n"
   ]
  },
  {
   "cell_type": "code",
   "execution_count": null,
   "metadata": {},
   "outputs": [],
   "source": [
    "df_website.head()"
   ]
  },
  {
   "cell_type": "code",
   "execution_count": null,
   "metadata": {},
   "outputs": [],
   "source": [
    "# Create new rating columns with renamed names and copy content from the old columns\n",
    "df_website['Rating 1'] = df_website['RESPONSE_1_rating']\n",
    "df_website['Rating 4'] = df_website['RESPONSE_4_rating']\n",
    "df_website['Rating 5'] = df_website['RESPONSE_5_rating']\n",
    "df_website['Rating 6'] = df_website['RESPONSE_6_rating']\n",
    "df_website['Rating 7'] = df_website['RESPONSE_7_rating']\n",
    "df_website['Rating 8'] = df_website['RESPONSE_8_rating']\n",
    "df_website['Rating 12'] = df_website['RESPONSE_12_rating']\n",
    "df_website['Rating 13'] = df_website['RESPONSE_13_rating']\n",
    "df_website['Rating 14'] = df_website['RESPONSE_14_rating']\n",
    "df_website['Rating 15'] = df_website['RESPONSE_15_rating']\n",
    "df_website['Rating 16'] = df_website['RESPONSE_16_rating']\n",
    "df_website['Rating 18'] = df_website['RESPONSE_18_rating']\n",
    "df_website['Rating 19'] = df_website['RESPONSE_19_rating']\n",
    "df_website['Rating 0'] = df_website['Difference_rating']\n",
    "df_website[\"Rating\"] = df_website[\"predict_weighted_average\"]\n",
    "\n",
    "# Drop the original rating columns\n",
    "df_website.drop(columns=[\n",
    "    'RESPONSE_1_rating',\n",
    "    'RESPONSE_4_rating',\n",
    "    'RESPONSE_5_rating',\n",
    "    'RESPONSE_6_rating',\n",
    "    'RESPONSE_7_rating',\n",
    "    'RESPONSE_8_rating',\n",
    "    'RESPONSE_12_rating',\n",
    "    'RESPONSE_13_rating',\n",
    "    'RESPONSE_14_rating',\n",
    "    'RESPONSE_15_rating',\n",
    "    'RESPONSE_16_rating',\n",
    "    'RESPONSE_18_rating',\n",
    "    'RESPONSE_19_rating',\n",
    "    'Difference_rating'\n",
    "], inplace=True)"
   ]
  },
  {
   "cell_type": "code",
   "execution_count": null,
   "metadata": {},
   "outputs": [],
   "source": [
    "df_website.head()"
   ]
  },
  {
   "cell_type": "code",
   "execution_count": null,
   "metadata": {},
   "outputs": [],
   "source": [
    "desired_order = [\"Startup Name\", \"Rating\"]\n",
    "\n",
    "numbers = []\n",
    "for col in df_website.columns:\n",
    "    if col.startswith(\"Question\"):\n",
    "        numbers.append(int(col.split(\" \")[1]))\n",
    "numbers.sort()\n",
    "for n in numbers:\n",
    "    desired_order.append(f\"Question {n}\")\n",
    "    desired_order.append(f\"Answer {n}\")\n",
    "    desired_order.append(f\"Rating {n}\")\n",
    "# Reorder the columns\n",
    "df_website = df_website.reindex(columns=desired_order)"
   ]
  },
  {
   "cell_type": "code",
   "execution_count": null,
   "metadata": {},
   "outputs": [],
   "source": [
    "\n",
    "df_website.head()"
   ]
  },
  {
   "cell_type": "code",
   "execution_count": null,
   "metadata": {},
   "outputs": [],
   "source": [
    "df_website.to_excel(\"ai_rating.xlsx\")"
   ]
  },
  {
   "cell_type": "code",
   "execution_count": null,
   "metadata": {},
   "outputs": [],
   "source": [
    "len(df_website[df_website[\"Rating\"] == \"1\"])"
   ]
  }
 ],
 "metadata": {
  "kernelspec": {
   "display_name": ".venv",
   "language": "python",
   "name": "python3"
  },
  "language_info": {
   "codemirror_mode": {
    "name": "ipython",
    "version": 3
   },
   "file_extension": ".py",
   "mimetype": "text/x-python",
   "name": "python",
   "nbconvert_exporter": "python",
   "pygments_lexer": "ipython3",
   "version": "3.10.12"
  }
 },
 "nbformat": 4,
 "nbformat_minor": 2
}
