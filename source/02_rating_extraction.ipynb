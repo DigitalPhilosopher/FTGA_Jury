{
 "cells": [
  {
   "cell_type": "code",
   "execution_count": null,
   "metadata": {},
   "outputs": [],
   "source": [
    "import pandas as pd\n",
    "from fuzzywuzzy import process\n",
    "\n",
    "\n",
    "import os\n",
    "os.chdir(\"../\")\n",
    "\n",
    "EXCEL = \"./data/Jury/Bewertung/Master Sheet/Master Sheet.xlsx\"\n",
    "JSON = \"./data/texts.json\"\n",
    "COMBINED = \"./data/combined.json\""
   ]
  },
  {
   "cell_type": "code",
   "execution_count": null,
   "metadata": {},
   "outputs": [],
   "source": [
    "df2 = pd.read_excel(EXCEL, header=1)\n",
    "df2['Startup'] = df2['Startup'].str.split(\" -\").str.get(0)"
   ]
  },
  {
   "cell_type": "code",
   "execution_count": null,
   "metadata": {},
   "outputs": [],
   "source": [
    "df1 = pd.read_json(JSON)\n",
    "df1.head()"
   ]
  },
  {
   "cell_type": "code",
   "execution_count": null,
   "metadata": {},
   "outputs": [],
   "source": [
    "# Function to find the best match using fuzzy matching\n",
    "def fuzzy_match(target, choices, threshold=80):\n",
    "    match, score = process.extractOne(target, choices)\n",
    "    if score >= threshold:\n",
    "        return match\n",
    "    return None\n",
    "\n",
    "# Extract relevant identifiers from `Filename` (without file extension)\n",
    "df1['SearchKey'] = df1['Filename'].str.replace('.pdf', '', regex=False)\n",
    "\n",
    "# Apply fuzzy matching to df1['SearchKey'] against all df2['Startup']\n",
    "df1['BestMatch'] = df1['SearchKey'].apply(\n",
    "    lambda x: fuzzy_match(x, df2['Startup'].tolist())\n",
    ")\n",
    "\n",
    "# Merge DataFrames based on the fuzzy match result\n",
    "df = df1.merge(df2, left_on='BestMatch', right_on='Startup', how='left')"
   ]
  },
  {
   "cell_type": "code",
   "execution_count": null,
   "metadata": {},
   "outputs": [],
   "source": [
    "df = df.dropna(subset=['Startup'])\n",
    "df = df.dropna(subset=['Filename'])\n",
    "\n",
    "df.to_json(COMBINED, orient='records')"
   ]
  }
 ],
 "metadata": {
  "kernelspec": {
   "display_name": ".venv",
   "language": "python",
   "name": "python3"
  },
  "language_info": {
   "codemirror_mode": {
    "name": "ipython",
    "version": 3
   },
   "file_extension": ".py",
   "mimetype": "text/x-python",
   "name": "python",
   "nbconvert_exporter": "python",
   "pygments_lexer": "ipython3",
   "version": "3.12.0"
  }
 },
 "nbformat": 4,
 "nbformat_minor": 2
}
