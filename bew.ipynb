{
 "cells": [
  {
   "cell_type": "code",
   "execution_count": null,
   "metadata": {},
   "outputs": [],
   "source": [
    "import pandas as pd\n",
    "import numpy as np\n",
    "\n",
    "PIPELINE = '2023'\n",
    "\n",
    "df = pd.read_excel(\"Bewertungen.xlsx\", sheet_name=PIPELINE)\n",
    "df['Startup'] = df['Startup'].str.split(\" -\").str.get(0)\n",
    "df.head()\n",
    "len(df)"
   ]
  },
  {
   "cell_type": "code",
   "execution_count": null,
   "metadata": {},
   "outputs": [],
   "source": [
    "import os\n",
    "dir = \"data/FinTech Germany Award \" + PIPELINE\n",
    "try:\n",
    "    os.mkdir(dir)\n",
    "except:\n",
    "    print(dir + \" already exists\")\n",
    "print(dir)"
   ]
  },
  {
   "cell_type": "code",
   "execution_count": null,
   "metadata": {},
   "outputs": [],
   "source": [
    "import pandas as pd\n",
    "from fuzzywuzzy import process\n",
    "import os\n",
    "\n",
    "df1 = pd.read_excel(dir + \"/general.xlsx\")\n",
    "df1 = df1[[\"Startup/Person Name\", \"Startup ID\"]]\n",
    "\n",
    "# Function to find the best match using fuzzy matching\n",
    "def fuzzy_match(target, choices, threshold=80):\n",
    "    match, score = process.extractOne(target, choices)\n",
    "    if score >= threshold:\n",
    "        return match\n",
    "    return None\n",
    "\n",
    "# Apply fuzzy matching to df1['SearchKey'] against all df2['Startup']\n",
    "df['BestMatch'] = df['Startup'].apply(\n",
    "    lambda x: fuzzy_match(x, df1['Startup/Person Name'].tolist())\n",
    ")\n",
    "\n",
    "# Merge DataFrames based on the fuzzy match result\n",
    "dfa = df.merge(df1, left_on='BestMatch', right_on='Startup/Person Name', how='left')\n",
    "dfa.drop([\"BestMatch\"], axis=1, inplace=True)\n",
    "df = dfa\n",
    "df.head()"
   ]
  },
  {
   "cell_type": "code",
   "execution_count": null,
   "metadata": {},
   "outputs": [],
   "source": [
    "# Replace NaN values with 4\n",
    "ratings_df = df.iloc[:, 1:]\n",
    "\n",
    "ratings_df = ratings_df.apply(pd.to_numeric, errors='coerce')\n",
    "\n",
    "# Replace NaN values with 4\n",
    "ratings_df.fillna(4, inplace=True)\n",
    "\n",
    "## Round down numbers to integers\n",
    "ratings_df = np.floor(ratings_df)\n",
    "\n",
    "## Replace values greater than 7 with 7\n",
    "ratings_df = np.where(ratings_df > 7, 7, ratings_df)\n",
    "ratings_df = np.where(ratings_df < 1, 1, ratings_df)\n",
    "\n",
    "pd.DataFrame(ratings_df).head()"
   ]
  },
  {
   "cell_type": "code",
   "execution_count": null,
   "metadata": {},
   "outputs": [],
   "source": [
    "# Calculate Max Score\n",
    "df['Max Score'] = ratings_df.max(axis=1)\n",
    "\n",
    "# Calculate Min Score\n",
    "df['Min Score'] = ratings_df.min(axis=1)\n",
    "\n",
    "# Calculate Number of \"4\" ratings\n",
    "df['Number of \"4\" ratings'] = np.count_nonzero(ratings_df == 4, axis=1)\n",
    "\n",
    "# Calculate Average evaluation\n",
    "df['Average evaluation'] = np.nanmean(ratings_df, axis=1)\n",
    "\n",
    "import numpy.ma as ma\n",
    "\n",
    "masked_ratings = ma.masked_equal(ratings_df, 4)\n",
    "df['Average evaluation (excluding 4)'] = ma.mean(masked_ratings, axis=1).filled(np.nan)\n",
    "\n",
    "masked_ratings = ma.masked_equal(masked_ratings, 3)\n",
    "masked_ratings = ma.masked_equal(masked_ratings, 5)\n",
    "df['Average evaluation (excluding 3, 4 and 5)'] = ma.mean(masked_ratings, axis=1).filled(np.nan)"
   ]
  },
  {
   "cell_type": "code",
   "execution_count": null,
   "metadata": {},
   "outputs": [],
   "source": [
    "df.to_excel(dir + '/scores.xlsx', index=False)"
   ]
  }
 ],
 "metadata": {
  "kernelspec": {
   "display_name": "Python 3",
   "language": "python",
   "name": "python3"
  },
  "language_info": {
   "codemirror_mode": {
    "name": "ipython",
    "version": 3
   },
   "file_extension": ".py",
   "mimetype": "text/x-python",
   "name": "python",
   "nbconvert_exporter": "python",
   "pygments_lexer": "ipython3",
   "version": "3.10.12"
  }
 },
 "nbformat": 4,
 "nbformat_minor": 2
}
