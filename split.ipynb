{
 "cells": [
  {
   "cell_type": "code",
   "execution_count": 18,
   "metadata": {},
   "outputs": [],
   "source": [
    "import os\n",
    "import pandas as pd\n",
    "\n",
    "year_dir = \"./FTGA/data/FinTech Germany Award 2020\"\n",
    "year_num = 2020\n",
    "\n",
    "# Read the data files\n",
    "general_df = pd.read_excel(os.path.join(year_dir, \"general.xlsx\"))\n",
    "\n",
    "if os.path.exists(os.path.join(year_dir, \"scores.xlsx\")):\n",
    "    scores_df = pd.read_excel(os.path.join(year_dir, \"scores.xlsx\"))\n",
    "    scores_df = scores_df.dropna(subset=[\"Startup ID\"])\n",
    "else:\n",
    "    scores_df = pd.DataFrame(columns=[\"Startup ID\", \"Average evaluation\"])\n",
    "\n",
    "# Merge the data files\n",
    "merged_df = general_df.merge(scores_df, on=\"Startup ID\", how=\"left\")\n",
    "\n",
    "# Split scored data\n",
    "scored_df = merged_df.dropna(subset=[\"Average evaluation\"])\n",
    "scored_df[\"score_category\"] = scored_df[\"Average evaluation\"].apply(lambda x: (\"HIGH\" if x >= 5 else \"MID\") if x > 3 else \"LOW\")\n",
    "\n",
    "high_scores = scored_df[scored_df[\"Average evaluation\"] > 4]\n",
    "low_scores = scored_df[scored_df[\"Average evaluation\"] <= 4]\n",
    "\n",
    "train_high = high_scores.sample(frac=0.8, random_state=38)\n",
    "test_high = high_scores.drop(train_high.index)\n",
    "train_low = low_scores.sample(frac=0.8, random_state=38)\n",
    "test_low = low_scores.drop(train_low.index)\n",
    "\n",
    "train_scored = pd.concat([train_high, train_low])\n",
    "test_scored = pd.concat([test_high, test_low])\n",
    "\n",
    "# Identify entries in general_df that do not have a score\n",
    "valid_df = general_df[~general_df[\"Startup ID\"].isin(scored_df[\"Startup ID\"])]\n",
    "\n",
    "# Save split data to CSV files\n",
    "train_file = os.path.join(year_dir, f\"train.csv\")\n",
    "test_file = os.path.join(year_dir, f\"test.csv\")\n",
    "valid_file = os.path.join(year_dir, f\"valid.csv\")\n",
    "\n",
    "train_scored[[\"Startup ID\"]].to_csv(train_file, index=False)\n",
    "test_scored[[\"Startup ID\"]].to_csv(test_file, index=False)\n",
    "valid_df[[\"Startup ID\"]].to_csv(valid_file, index=False)\n"
   ]
  }
 ],
 "metadata": {
  "kernelspec": {
   "display_name": ".venv",
   "language": "python",
   "name": "python3"
  },
  "language_info": {
   "codemirror_mode": {
    "name": "ipython",
    "version": 3
   },
   "file_extension": ".py",
   "mimetype": "text/x-python",
   "name": "python",
   "nbconvert_exporter": "python",
   "pygments_lexer": "ipython3",
   "version": "3.12.0"
  }
 },
 "nbformat": 4,
 "nbformat_minor": 2
}
